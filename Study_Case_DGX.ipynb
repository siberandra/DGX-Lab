{
  "nbformat": 4,
  "nbformat_minor": 0,
  "metadata": {
    "colab": {
      "provenance": [],
      "authorship_tag": "ABX9TyOHTu6OCzEC9++7ko+1GnA8",
      "include_colab_link": true
    },
    "kernelspec": {
      "name": "python3",
      "display_name": "Python 3"
    },
    "language_info": {
      "name": "python"
    }
  },
  "cells": [
    {
      "cell_type": "markdown",
      "metadata": {
        "id": "view-in-github",
        "colab_type": "text"
      },
      "source": [
        "<a href=\"https://colab.research.google.com/github/siberandra/DGX-Lab/blob/main/Study_Case_DGX.ipynb\" target=\"_parent\"><img src=\"https://colab.research.google.com/assets/colab-badge.svg\" alt=\"Open In Colab\"/></a>"
      ]
    },
    {
      "cell_type": "markdown",
      "source": [
        "# STUDY CASE DGX Lab Assistant (Januari 2025)"
      ],
      "metadata": {
        "id": "QST8npFT2A4F"
      }
    },
    {
      "cell_type": "markdown",
      "source": [
        "##1.\tNama\t\t: Vicky Chandra\n",
        "##NPM\t\t: 10122012\n",
        "##Kelas \t\t: 3KA23\n",
        "##Program Studi : S1 Sistem Informasi"
      ],
      "metadata": {
        "id": "5N3PElwp2jJH"
      }
    },
    {
      "cell_type": "markdown",
      "source": [
        "##2. Pak Hadi diminta untuk membuat sebuah program yang menghitung biaya parkir mobil di sebuah mall. Biaya parkir di mall tersebut adalah Rp. 5000 untuk jam pertama, dan Rp. 3000 untuk setiap jam berikutnya. Jika mobil parkir lebih dari 12 jam, maka biaya parkir menjadi Rp. 50.000. Program harus menerima input jam masuk dan jam keluar dalam format 24 jam, dan mencetak biaya parkir yang harus dibayar. Buatlah program sesuai yang diminta!"
      ],
      "metadata": {
        "id": "wnSNEfe53m29"
      }
    },
    {
      "cell_type": "code",
      "source": [
        "def hitung_biaya_parkir(jam_masuk, jam_keluar):\n",
        "\n",
        "    if not (0 <= jam_masuk < 24 and 0 <= jam_keluar < 24):\n",
        "        return \"Jam tidak valid. Harus dalam rentang 0-23.\"\n",
        "\n",
        "    # Durasi Parkir\n",
        "    if jam_keluar >= jam_masuk:\n",
        "        durasi = jam_keluar - jam_masuk\n",
        "    else:\n",
        "        durasi = (24 - jam_masuk) + jam_keluar\n",
        "\n",
        "    # Biaya Parkir\n",
        "    if durasi > 12:\n",
        "        biaya = 50000\n",
        "    elif durasi == 1:\n",
        "        biaya = 5000\n",
        "    else:\n",
        "        biaya = 5000 + (durasi - 1) * 3000\n",
        "\n",
        "    return f\"Biaya parkir: Rp {biaya:,}\"\n",
        "\n",
        "# Final\n",
        "jam_masuk = int(input(\"Masukkan jam masuk (0-23): \"))\n",
        "jam_keluar = int(input(\"Masukkan jam keluar (0-23): \"))\n",
        "print(hitung_biaya_parkir(jam_masuk, jam_keluar))\n"
      ],
      "metadata": {
        "colab": {
          "base_uri": "https://localhost:8080/"
        },
        "id": "3gyVUjNi3A3a",
        "outputId": "da33c438-25ee-4c9b-8a77-99491845a506"
      },
      "execution_count": 2,
      "outputs": [
        {
          "output_type": "stream",
          "name": "stdout",
          "text": [
            "Masukkan jam masuk (0-23): 17\n",
            "Masukkan jam keluar (0-23): 21\n",
            "Biaya parkir: Rp 14,000\n"
          ]
        }
      ]
    },
    {
      "cell_type": "markdown",
      "source": [
        "# 3. Diisi dengan jawaban dari pertanyaan berikut ini:\n",
        "##Sebutkan halaman website terkait MK Praktikum Unggulan (Praktikum DGX) Universitas Gunadarma dan silakan disampaikan informasi apa saja yang bisa Anda dapatkan pada halaman website tersebut?"
      ],
      "metadata": {
        "id": "vGa-2hat3sIp"
      }
    },
    {
      "cell_type": "markdown",
      "source": [
        "##*   Di page Home berisi tentang penjelasan mengenai Mata Kuliah Praktikum Unggulan (Praktikum DGX) dan mesin-mesin yang digunakan seperti DGX-1 dan DGX A100.\n",
        "##*   Di page Berita berisi tentang Kompetensi, Kursus Data Science, dan Health Artificial Intelligence\n",
        "\n",
        "##*   Di page Jadwal Praktikum berisi jadwal praktikum MSIB, AKMRTV, dan Agroindustri\n",
        "##*   Di page Pelaksanaan Praktikum ada Teknik Pelaksanaan, Alur Pelaksanaan, Link Akses DGX, Tata Tertib Praktikum, Pengulangan Praktikum, Cek Nilai Praktikum, dan Umpan Balik MK Praktikum Unggulan (DGX)\n",
        "\n",
        "##*   Di page Asisten Praktikum ada Recruitmen Asisten, Kegiatan Asisten (FGD), Jadwal Asisten, Tata Tertib Asisten, dan Prestasi Asisten\n",
        "##*   Dan di page terakhir berisi Kontak Pengelola Mata Kuliah Praktikum Unggulan Universitas Gunadarma\n",
        "\n",
        "\n",
        "\n"
      ],
      "metadata": {
        "id": "jFBOM9GX4pwF"
      }
    },
    {
      "cell_type": "markdown",
      "source": [
        "#4. Perbaiki kesalahannya dan berikan hasil identifikasi Anda.\n",
        "\n",
        "##Perhatikan program berikut dan identifikasi kesalahan pada sintaks di bawah ini!\n",
        "def print hello(nama):\n",
        "print(\"Hello, \" + name)\n",
        "names = [\"Alice\", \"Bob\", \"Charlie\"]\n",
        "for nama in names\n",
        "print_hello(name)\n",
        "File \"<ipython-input-1-48b9c6de987a>\", line 3\n",
        "def print hello(nama):\n",
        "^\n",
        "SyntaxError: expected '('"
      ],
      "metadata": {
        "id": "B-qNayKU74j-"
      }
    },
    {
      "cell_type": "code",
      "source": [
        "def print_hello(nama):\n",
        "    print(\"Hello, \" + nama)\n",
        "\n",
        "names = [\"Alice\", \"Bob\", \"Charlie\"]\n",
        "for nama in names:\n",
        "    print_hello(nama)\n"
      ],
      "metadata": {
        "colab": {
          "base_uri": "https://localhost:8080/"
        },
        "id": "N3x0WH_D86mi",
        "outputId": "ae9556ec-822c-47f0-c818-db6459c47d69"
      },
      "execution_count": 3,
      "outputs": [
        {
          "output_type": "stream",
          "name": "stdout",
          "text": [
            "Hello, Alice\n",
            "Hello, Bob\n",
            "Hello, Charlie\n"
          ]
        }
      ]
    },
    {
      "cell_type": "markdown",
      "source": [
        "# 5. Anda merupakan seseorang yang ditugaskan untuk melakukan analisis terhadap data\n",
        "##Traffic Accidents. Untuk membuat data lebih mudah dipahami oleh stakeholders, Anda diminta untuk melakukan visualisasi dari data tersebut.\n",
        "##Data dapat Anda akses melalui tautan: https://bit.ly/3EYqyyF\n",
        "##Silakan buatlah visualisasi sederhana dari data tersebut (diagram yang digunakan bebas). Pastikan visualisasi yang Anda buat dapat memberikan insight atau wawasan yang bermanfaat."
      ],
      "metadata": {
        "id": "d4yfyaJR9OO3"
      }
    },
    {
      "cell_type": "code",
      "source": [
        "import pandas as pd\n",
        "\n",
        "# Load dataset\n",
        "file_path = \"global_traffic_accidents.csv\"\n",
        "df = pd.read_csv(file_path)\n",
        "\n",
        "# Menampilkan beberapa baris pertama untuk melihat struktur data\n",
        "df.head()\n"
      ],
      "metadata": {
        "colab": {
          "base_uri": "https://localhost:8080/",
          "height": 207
        },
        "id": "RpxI7kKc9YwV",
        "outputId": "2c93a6ce-df38-4d68-c7ec-d8e9a7f4881e"
      },
      "execution_count": 4,
      "outputs": [
        {
          "output_type": "execute_result",
          "data": {
            "text/plain": [
              "  Accident ID        Date   Time           Location   Latitude   Longitude  \\\n",
              "0    b0dd6f57  2023-04-19  06:39      Mumbai, India  13.488432  -73.290682   \n",
              "1    debfad09  2023-01-17  02:47  São Paulo, Brazil -37.798317  -32.244242   \n",
              "2    6d69aa36  2024-04-09  02:55  Sydney, Australia  33.767869  104.869018   \n",
              "3    425bb1f0  2023-10-10  11:23       Tokyo, Japan  -0.378031 -165.825855   \n",
              "4    90d5cf62  2023-01-02  12:07     Beijing, China  41.254879  -30.776959   \n",
              "\n",
              "  Weather Condition Road Condition  Vehicles Involved  Casualties  \\\n",
              "0              Snow          Snowy                  5           7   \n",
              "1             Clear            Icy                  4           1   \n",
              "2              Rain          Snowy                  1           7   \n",
              "3             Storm            Wet                  4           0   \n",
              "4             Storm          Snowy                  3           9   \n",
              "\n",
              "              Cause  \n",
              "0  Reckless Driving  \n",
              "1     Drunk Driving  \n",
              "2  Reckless Driving  \n",
              "3     Drunk Driving  \n",
              "4  Reckless Driving  "
            ],
            "text/html": [
              "\n",
              "  <div id=\"df-bb7318ca-d666-412b-88e5-44f8834283dc\" class=\"colab-df-container\">\n",
              "    <div>\n",
              "<style scoped>\n",
              "    .dataframe tbody tr th:only-of-type {\n",
              "        vertical-align: middle;\n",
              "    }\n",
              "\n",
              "    .dataframe tbody tr th {\n",
              "        vertical-align: top;\n",
              "    }\n",
              "\n",
              "    .dataframe thead th {\n",
              "        text-align: right;\n",
              "    }\n",
              "</style>\n",
              "<table border=\"1\" class=\"dataframe\">\n",
              "  <thead>\n",
              "    <tr style=\"text-align: right;\">\n",
              "      <th></th>\n",
              "      <th>Accident ID</th>\n",
              "      <th>Date</th>\n",
              "      <th>Time</th>\n",
              "      <th>Location</th>\n",
              "      <th>Latitude</th>\n",
              "      <th>Longitude</th>\n",
              "      <th>Weather Condition</th>\n",
              "      <th>Road Condition</th>\n",
              "      <th>Vehicles Involved</th>\n",
              "      <th>Casualties</th>\n",
              "      <th>Cause</th>\n",
              "    </tr>\n",
              "  </thead>\n",
              "  <tbody>\n",
              "    <tr>\n",
              "      <th>0</th>\n",
              "      <td>b0dd6f57</td>\n",
              "      <td>2023-04-19</td>\n",
              "      <td>06:39</td>\n",
              "      <td>Mumbai, India</td>\n",
              "      <td>13.488432</td>\n",
              "      <td>-73.290682</td>\n",
              "      <td>Snow</td>\n",
              "      <td>Snowy</td>\n",
              "      <td>5</td>\n",
              "      <td>7</td>\n",
              "      <td>Reckless Driving</td>\n",
              "    </tr>\n",
              "    <tr>\n",
              "      <th>1</th>\n",
              "      <td>debfad09</td>\n",
              "      <td>2023-01-17</td>\n",
              "      <td>02:47</td>\n",
              "      <td>São Paulo, Brazil</td>\n",
              "      <td>-37.798317</td>\n",
              "      <td>-32.244242</td>\n",
              "      <td>Clear</td>\n",
              "      <td>Icy</td>\n",
              "      <td>4</td>\n",
              "      <td>1</td>\n",
              "      <td>Drunk Driving</td>\n",
              "    </tr>\n",
              "    <tr>\n",
              "      <th>2</th>\n",
              "      <td>6d69aa36</td>\n",
              "      <td>2024-04-09</td>\n",
              "      <td>02:55</td>\n",
              "      <td>Sydney, Australia</td>\n",
              "      <td>33.767869</td>\n",
              "      <td>104.869018</td>\n",
              "      <td>Rain</td>\n",
              "      <td>Snowy</td>\n",
              "      <td>1</td>\n",
              "      <td>7</td>\n",
              "      <td>Reckless Driving</td>\n",
              "    </tr>\n",
              "    <tr>\n",
              "      <th>3</th>\n",
              "      <td>425bb1f0</td>\n",
              "      <td>2023-10-10</td>\n",
              "      <td>11:23</td>\n",
              "      <td>Tokyo, Japan</td>\n",
              "      <td>-0.378031</td>\n",
              "      <td>-165.825855</td>\n",
              "      <td>Storm</td>\n",
              "      <td>Wet</td>\n",
              "      <td>4</td>\n",
              "      <td>0</td>\n",
              "      <td>Drunk Driving</td>\n",
              "    </tr>\n",
              "    <tr>\n",
              "      <th>4</th>\n",
              "      <td>90d5cf62</td>\n",
              "      <td>2023-01-02</td>\n",
              "      <td>12:07</td>\n",
              "      <td>Beijing, China</td>\n",
              "      <td>41.254879</td>\n",
              "      <td>-30.776959</td>\n",
              "      <td>Storm</td>\n",
              "      <td>Snowy</td>\n",
              "      <td>3</td>\n",
              "      <td>9</td>\n",
              "      <td>Reckless Driving</td>\n",
              "    </tr>\n",
              "  </tbody>\n",
              "</table>\n",
              "</div>\n",
              "    <div class=\"colab-df-buttons\">\n",
              "\n",
              "  <div class=\"colab-df-container\">\n",
              "    <button class=\"colab-df-convert\" onclick=\"convertToInteractive('df-bb7318ca-d666-412b-88e5-44f8834283dc')\"\n",
              "            title=\"Convert this dataframe to an interactive table.\"\n",
              "            style=\"display:none;\">\n",
              "\n",
              "  <svg xmlns=\"http://www.w3.org/2000/svg\" height=\"24px\" viewBox=\"0 -960 960 960\">\n",
              "    <path d=\"M120-120v-720h720v720H120Zm60-500h600v-160H180v160Zm220 220h160v-160H400v160Zm0 220h160v-160H400v160ZM180-400h160v-160H180v160Zm440 0h160v-160H620v160ZM180-180h160v-160H180v160Zm440 0h160v-160H620v160Z\"/>\n",
              "  </svg>\n",
              "    </button>\n",
              "\n",
              "  <style>\n",
              "    .colab-df-container {\n",
              "      display:flex;\n",
              "      gap: 12px;\n",
              "    }\n",
              "\n",
              "    .colab-df-convert {\n",
              "      background-color: #E8F0FE;\n",
              "      border: none;\n",
              "      border-radius: 50%;\n",
              "      cursor: pointer;\n",
              "      display: none;\n",
              "      fill: #1967D2;\n",
              "      height: 32px;\n",
              "      padding: 0 0 0 0;\n",
              "      width: 32px;\n",
              "    }\n",
              "\n",
              "    .colab-df-convert:hover {\n",
              "      background-color: #E2EBFA;\n",
              "      box-shadow: 0px 1px 2px rgba(60, 64, 67, 0.3), 0px 1px 3px 1px rgba(60, 64, 67, 0.15);\n",
              "      fill: #174EA6;\n",
              "    }\n",
              "\n",
              "    .colab-df-buttons div {\n",
              "      margin-bottom: 4px;\n",
              "    }\n",
              "\n",
              "    [theme=dark] .colab-df-convert {\n",
              "      background-color: #3B4455;\n",
              "      fill: #D2E3FC;\n",
              "    }\n",
              "\n",
              "    [theme=dark] .colab-df-convert:hover {\n",
              "      background-color: #434B5C;\n",
              "      box-shadow: 0px 1px 3px 1px rgba(0, 0, 0, 0.15);\n",
              "      filter: drop-shadow(0px 1px 2px rgba(0, 0, 0, 0.3));\n",
              "      fill: #FFFFFF;\n",
              "    }\n",
              "  </style>\n",
              "\n",
              "    <script>\n",
              "      const buttonEl =\n",
              "        document.querySelector('#df-bb7318ca-d666-412b-88e5-44f8834283dc button.colab-df-convert');\n",
              "      buttonEl.style.display =\n",
              "        google.colab.kernel.accessAllowed ? 'block' : 'none';\n",
              "\n",
              "      async function convertToInteractive(key) {\n",
              "        const element = document.querySelector('#df-bb7318ca-d666-412b-88e5-44f8834283dc');\n",
              "        const dataTable =\n",
              "          await google.colab.kernel.invokeFunction('convertToInteractive',\n",
              "                                                    [key], {});\n",
              "        if (!dataTable) return;\n",
              "\n",
              "        const docLinkHtml = 'Like what you see? Visit the ' +\n",
              "          '<a target=\"_blank\" href=https://colab.research.google.com/notebooks/data_table.ipynb>data table notebook</a>'\n",
              "          + ' to learn more about interactive tables.';\n",
              "        element.innerHTML = '';\n",
              "        dataTable['output_type'] = 'display_data';\n",
              "        await google.colab.output.renderOutput(dataTable, element);\n",
              "        const docLink = document.createElement('div');\n",
              "        docLink.innerHTML = docLinkHtml;\n",
              "        element.appendChild(docLink);\n",
              "      }\n",
              "    </script>\n",
              "  </div>\n",
              "\n",
              "\n",
              "<div id=\"df-c44d5178-bce7-497b-b4ec-56b1a6d3595a\">\n",
              "  <button class=\"colab-df-quickchart\" onclick=\"quickchart('df-c44d5178-bce7-497b-b4ec-56b1a6d3595a')\"\n",
              "            title=\"Suggest charts\"\n",
              "            style=\"display:none;\">\n",
              "\n",
              "<svg xmlns=\"http://www.w3.org/2000/svg\" height=\"24px\"viewBox=\"0 0 24 24\"\n",
              "     width=\"24px\">\n",
              "    <g>\n",
              "        <path d=\"M19 3H5c-1.1 0-2 .9-2 2v14c0 1.1.9 2 2 2h14c1.1 0 2-.9 2-2V5c0-1.1-.9-2-2-2zM9 17H7v-7h2v7zm4 0h-2V7h2v10zm4 0h-2v-4h2v4z\"/>\n",
              "    </g>\n",
              "</svg>\n",
              "  </button>\n",
              "\n",
              "<style>\n",
              "  .colab-df-quickchart {\n",
              "      --bg-color: #E8F0FE;\n",
              "      --fill-color: #1967D2;\n",
              "      --hover-bg-color: #E2EBFA;\n",
              "      --hover-fill-color: #174EA6;\n",
              "      --disabled-fill-color: #AAA;\n",
              "      --disabled-bg-color: #DDD;\n",
              "  }\n",
              "\n",
              "  [theme=dark] .colab-df-quickchart {\n",
              "      --bg-color: #3B4455;\n",
              "      --fill-color: #D2E3FC;\n",
              "      --hover-bg-color: #434B5C;\n",
              "      --hover-fill-color: #FFFFFF;\n",
              "      --disabled-bg-color: #3B4455;\n",
              "      --disabled-fill-color: #666;\n",
              "  }\n",
              "\n",
              "  .colab-df-quickchart {\n",
              "    background-color: var(--bg-color);\n",
              "    border: none;\n",
              "    border-radius: 50%;\n",
              "    cursor: pointer;\n",
              "    display: none;\n",
              "    fill: var(--fill-color);\n",
              "    height: 32px;\n",
              "    padding: 0;\n",
              "    width: 32px;\n",
              "  }\n",
              "\n",
              "  .colab-df-quickchart:hover {\n",
              "    background-color: var(--hover-bg-color);\n",
              "    box-shadow: 0 1px 2px rgba(60, 64, 67, 0.3), 0 1px 3px 1px rgba(60, 64, 67, 0.15);\n",
              "    fill: var(--button-hover-fill-color);\n",
              "  }\n",
              "\n",
              "  .colab-df-quickchart-complete:disabled,\n",
              "  .colab-df-quickchart-complete:disabled:hover {\n",
              "    background-color: var(--disabled-bg-color);\n",
              "    fill: var(--disabled-fill-color);\n",
              "    box-shadow: none;\n",
              "  }\n",
              "\n",
              "  .colab-df-spinner {\n",
              "    border: 2px solid var(--fill-color);\n",
              "    border-color: transparent;\n",
              "    border-bottom-color: var(--fill-color);\n",
              "    animation:\n",
              "      spin 1s steps(1) infinite;\n",
              "  }\n",
              "\n",
              "  @keyframes spin {\n",
              "    0% {\n",
              "      border-color: transparent;\n",
              "      border-bottom-color: var(--fill-color);\n",
              "      border-left-color: var(--fill-color);\n",
              "    }\n",
              "    20% {\n",
              "      border-color: transparent;\n",
              "      border-left-color: var(--fill-color);\n",
              "      border-top-color: var(--fill-color);\n",
              "    }\n",
              "    30% {\n",
              "      border-color: transparent;\n",
              "      border-left-color: var(--fill-color);\n",
              "      border-top-color: var(--fill-color);\n",
              "      border-right-color: var(--fill-color);\n",
              "    }\n",
              "    40% {\n",
              "      border-color: transparent;\n",
              "      border-right-color: var(--fill-color);\n",
              "      border-top-color: var(--fill-color);\n",
              "    }\n",
              "    60% {\n",
              "      border-color: transparent;\n",
              "      border-right-color: var(--fill-color);\n",
              "    }\n",
              "    80% {\n",
              "      border-color: transparent;\n",
              "      border-right-color: var(--fill-color);\n",
              "      border-bottom-color: var(--fill-color);\n",
              "    }\n",
              "    90% {\n",
              "      border-color: transparent;\n",
              "      border-bottom-color: var(--fill-color);\n",
              "    }\n",
              "  }\n",
              "</style>\n",
              "\n",
              "  <script>\n",
              "    async function quickchart(key) {\n",
              "      const quickchartButtonEl =\n",
              "        document.querySelector('#' + key + ' button');\n",
              "      quickchartButtonEl.disabled = true;  // To prevent multiple clicks.\n",
              "      quickchartButtonEl.classList.add('colab-df-spinner');\n",
              "      try {\n",
              "        const charts = await google.colab.kernel.invokeFunction(\n",
              "            'suggestCharts', [key], {});\n",
              "      } catch (error) {\n",
              "        console.error('Error during call to suggestCharts:', error);\n",
              "      }\n",
              "      quickchartButtonEl.classList.remove('colab-df-spinner');\n",
              "      quickchartButtonEl.classList.add('colab-df-quickchart-complete');\n",
              "    }\n",
              "    (() => {\n",
              "      let quickchartButtonEl =\n",
              "        document.querySelector('#df-c44d5178-bce7-497b-b4ec-56b1a6d3595a button');\n",
              "      quickchartButtonEl.style.display =\n",
              "        google.colab.kernel.accessAllowed ? 'block' : 'none';\n",
              "    })();\n",
              "  </script>\n",
              "</div>\n",
              "\n",
              "    </div>\n",
              "  </div>\n"
            ],
            "application/vnd.google.colaboratory.intrinsic+json": {
              "type": "dataframe",
              "variable_name": "df",
              "summary": "{\n  \"name\": \"df\",\n  \"rows\": 10000,\n  \"fields\": [\n    {\n      \"column\": \"Accident ID\",\n      \"properties\": {\n        \"dtype\": \"string\",\n        \"num_unique_values\": 10000,\n        \"samples\": [\n          \"d02bba7a\",\n          \"36ffc223\",\n          \"974fddd5\"\n        ],\n        \"semantic_type\": \"\",\n        \"description\": \"\"\n      }\n    },\n    {\n      \"column\": \"Date\",\n      \"properties\": {\n        \"dtype\": \"object\",\n        \"num_unique_values\": 731,\n        \"samples\": [\n          \"2024-07-22\",\n          \"2023-04-13\",\n          \"2024-03-31\"\n        ],\n        \"semantic_type\": \"\",\n        \"description\": \"\"\n      }\n    },\n    {\n      \"column\": \"Time\",\n      \"properties\": {\n        \"dtype\": \"object\",\n        \"num_unique_values\": 1439,\n        \"samples\": [\n          \"06:14\",\n          \"13:03\",\n          \"04:10\"\n        ],\n        \"semantic_type\": \"\",\n        \"description\": \"\"\n      }\n    },\n    {\n      \"column\": \"Location\",\n      \"properties\": {\n        \"dtype\": \"category\",\n        \"num_unique_values\": 10,\n        \"samples\": [\n          \"Berlin, Germany\",\n          \"S\\u00e3o Paulo, Brazil\",\n          \"Paris, France\"\n        ],\n        \"semantic_type\": \"\",\n        \"description\": \"\"\n      }\n    },\n    {\n      \"column\": \"Latitude\",\n      \"properties\": {\n        \"dtype\": \"number\",\n        \"std\": 51.917928478279606,\n        \"min\": -89.985688,\n        \"max\": 89.990081,\n        \"num_unique_values\": 10000,\n        \"samples\": [\n          -76.774549,\n          -53.548957,\n          -25.754747\n        ],\n        \"semantic_type\": \"\",\n        \"description\": \"\"\n      }\n    },\n    {\n      \"column\": \"Longitude\",\n      \"properties\": {\n        \"dtype\": \"number\",\n        \"std\": 103.37916767801859,\n        \"min\": -179.961984,\n        \"max\": 179.981695,\n        \"num_unique_values\": 10000,\n        \"samples\": [\n          -95.828285,\n          141.360453,\n          74.80687\n        ],\n        \"semantic_type\": \"\",\n        \"description\": \"\"\n      }\n    },\n    {\n      \"column\": \"Weather Condition\",\n      \"properties\": {\n        \"dtype\": \"category\",\n        \"num_unique_values\": 6,\n        \"samples\": [\n          \"Snow\",\n          \"Clear\",\n          \"Hail\"\n        ],\n        \"semantic_type\": \"\",\n        \"description\": \"\"\n      }\n    },\n    {\n      \"column\": \"Road Condition\",\n      \"properties\": {\n        \"dtype\": \"category\",\n        \"num_unique_values\": 6,\n        \"samples\": [\n          \"Snowy\",\n          \"Icy\",\n          \"Dry\"\n        ],\n        \"semantic_type\": \"\",\n        \"description\": \"\"\n      }\n    },\n    {\n      \"column\": \"Vehicles Involved\",\n      \"properties\": {\n        \"dtype\": \"number\",\n        \"std\": 1,\n        \"min\": 1,\n        \"max\": 5,\n        \"num_unique_values\": 5,\n        \"samples\": [\n          4,\n          2,\n          1\n        ],\n        \"semantic_type\": \"\",\n        \"description\": \"\"\n      }\n    },\n    {\n      \"column\": \"Casualties\",\n      \"properties\": {\n        \"dtype\": \"number\",\n        \"std\": 3,\n        \"min\": 0,\n        \"max\": 10,\n        \"num_unique_values\": 11,\n        \"samples\": [\n          8,\n          7,\n          3\n        ],\n        \"semantic_type\": \"\",\n        \"description\": \"\"\n      }\n    },\n    {\n      \"column\": \"Cause\",\n      \"properties\": {\n        \"dtype\": \"category\",\n        \"num_unique_values\": 6,\n        \"samples\": [\n          \"Reckless Driving\",\n          \"Drunk Driving\",\n          \"Distracted Driving\"\n        ],\n        \"semantic_type\": \"\",\n        \"description\": \"\"\n      }\n    }\n  ]\n}"
            }
          },
          "metadata": {},
          "execution_count": 4
        }
      ]
    },
    {
      "cell_type": "code",
      "source": [
        "import matplotlib.pyplot as plt\n",
        "import seaborn as sns\n",
        "\n",
        "# 1. Distribusi kecelakaan berdasarkan kondisi cuaca\n",
        "plt.figure(figsize=(10, 5))\n",
        "sns.countplot(y=df[\"Weather Condition\"], order=df[\"Weather Condition\"].value_counts().index, palette=\"coolwarm\")\n",
        "plt.title(\"Distribusi Kecelakaan Berdasarkan Kondisi Cuaca\")\n",
        "plt.xlabel(\"Jumlah Kecelakaan\")\n",
        "plt.ylabel(\"Kondisi Cuaca\")\n",
        "plt.show()\n"
      ],
      "metadata": {
        "colab": {
          "base_uri": "https://localhost:8080/",
          "height": 577
        },
        "id": "8pmD-b2u-dKr",
        "outputId": "362b1f63-1a6f-41cd-903d-ea08f9cb1103"
      },
      "execution_count": 5,
      "outputs": [
        {
          "output_type": "stream",
          "name": "stderr",
          "text": [
            "<ipython-input-5-66ebb566e7fd>:6: FutureWarning: \n",
            "\n",
            "Passing `palette` without assigning `hue` is deprecated and will be removed in v0.14.0. Assign the `y` variable to `hue` and set `legend=False` for the same effect.\n",
            "\n",
            "  sns.countplot(y=df[\"Weather Condition\"], order=df[\"Weather Condition\"].value_counts().index, palette=\"coolwarm\")\n"
          ]
        },
        {
          "output_type": "display_data",
          "data": {
            "text/plain": [
              "<Figure size 1000x500 with 1 Axes>"
            ],
            "image/png": "[encoded data removed]"
          },
          "metadata": {}
        }
      ]
    },
    {
      "cell_type": "code",
      "source": [
        "# 2. Hubungan antara jumlah kendaraan yang terlibat dengan jumlah korban\n",
        "plt.figure(figsize=(8, 5))\n",
        "sns.scatterplot(x=df[\"Vehicles Involved\"], y=df[\"Casualties\"], alpha=0.7, color=\"blue\")\n",
        "plt.title(\"Hubungan Jumlah Kendaraan dengan Jumlah Korban\")\n",
        "plt.xlabel(\"Jumlah Kendaraan yang Terlibat\")\n",
        "plt.ylabel(\"Jumlah Korban\")\n",
        "plt.grid(True)\n",
        "plt.show()\n"
      ],
      "metadata": {
        "colab": {
          "base_uri": "https://localhost:8080/",
          "height": 487
        },
        "id": "xUgBzGOE-jQA",
        "outputId": "c6e80794-2309-4c13-8410-96f6b4e2e37c"
      },
      "execution_count": 6,
      "outputs": [
        {
          "output_type": "display_data",
          "data": {
            "text/plain": [
              "<Figure size 800x500 with 1 Axes>"
            ],
            "image/png": "[encoded data removed]"
          },
          "metadata": {}
        }
      ]
    },
    {
      "cell_type": "code",
      "source": [
        "# 3. Penyebab kecelakaan yang paling umum\n",
        "plt.figure(figsize=(10, 5))\n",
        "sns.countplot(y=df[\"Cause\"], order=df[\"Cause\"].value_counts().index, palette=\"viridis\")\n",
        "plt.title(\"Penyebab Kecelakaan yang Paling Umum\")\n",
        "plt.xlabel(\"Jumlah Kecelakaan\")\n",
        "plt.ylabel(\"Penyebab\")\n",
        "plt.show()\n"
      ],
      "metadata": {
        "colab": {
          "base_uri": "https://localhost:8080/",
          "height": 577
        },
        "id": "Uo5LlrWv-tNx",
        "outputId": "eca85b61-1cc8-4a53-daf0-a170b02b4f20"
      },
      "execution_count": 7,
      "outputs": [
        {
          "output_type": "stream",
          "name": "stderr",
          "text": [
            "<ipython-input-7-b1a60b42efaa>:3: FutureWarning: \n",
            "\n",
            "Passing `palette` without assigning `hue` is deprecated and will be removed in v0.14.0. Assign the `y` variable to `hue` and set `legend=False` for the same effect.\n",
            "\n",
            "  sns.countplot(y=df[\"Cause\"], order=df[\"Cause\"].value_counts().index, palette=\"viridis\")\n"
          ]
        },
        {
          "output_type": "display_data",
          "data": {
            "text/plain": [
              "<Figure size 1000x500 with 1 Axes>"
            ],
            "image/png": "[encoded data removed]"
          },
          "metadata": {}
        }
      ]
    }
  ]
}